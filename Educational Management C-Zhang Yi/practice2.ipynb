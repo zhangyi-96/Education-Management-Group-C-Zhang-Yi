{
 "cells": [
  {
   "cell_type": "code",
   "execution_count": 1,
   "metadata": {},
   "outputs": [
    {
     "name": "stderr",
     "output_type": "stream",
     "text": [
      "d:\\python_Path\\lib\\site-packages\\outdated\\utils.py:18: OutdatedPackageWarning: The package pingouin is out of date. Your version is 0.5.3, the latest is 0.5.5.\n",
      "Set the environment variable OUTDATED_IGNORE=1 to disable these warnings.\n",
      "  **kwargs\n",
      "Bad value in file 'https://raw.githubusercontent.com/aeturrell/core_python/main/plot_style.txt', line 24 ('legend.loc: \"upper left\"'): Key legend.loc: '\"upper left\"' is not a valid value for legend.loc; supported values are ['best', 'upper right', 'upper left', 'lower left', 'lower right', 'right', 'center left', 'center right', 'lower center', 'upper center', 'center']; remove quotes surrounding your string\n"
     ]
    }
   ],
   "source": [
    "import pandas as pd\n",
    "import matplotlib as mpl\n",
    "import matplotlib.pyplot as plt\n",
    "import numpy as np\n",
    "from pathlib import Path\n",
    "import pingouin as pg\n",
    "from lets_plot import *\n",
    "\n",
    "\n",
    "LetsPlot.setup_html(no_js=True)\n",
    "\n",
    "\n",
    "### You don't need to use these settings yourself\n",
    "### — they are just here to make the book look nicer!\n",
    "# Set the plot style for prettier charts:\n",
    "plt.style.use(\n",
    "\n",
    "    \"https://raw.githubusercontent.com/aeturrell/core_python/main/plot_style.txt\"\n",
    ")"
   ]
  },
  {
   "cell_type": "markdown",
   "metadata": {},
   "source": [
    "## 演练2.1"
   ]
  },
  {
   "cell_type": "code",
   "execution_count": 2,
   "metadata": {},
   "outputs": [
    {
     "data": {
      "text/html": [
       "<div>\n",
       "<style scoped>\n",
       "    .dataframe tbody tr th:only-of-type {\n",
       "        vertical-align: middle;\n",
       "    }\n",
       "\n",
       "    .dataframe tbody tr th {\n",
       "        vertical-align: top;\n",
       "    }\n",
       "\n",
       "    .dataframe thead th {\n",
       "        text-align: right;\n",
       "    }\n",
       "</style>\n",
       "<table border=\"1\" class=\"dataframe\">\n",
       "  <thead>\n",
       "    <tr style=\"text-align: right;\">\n",
       "      <th></th>\n",
       "      <th>Copenhagen</th>\n",
       "      <th>Dniprop</th>\n",
       "      <th>Minsk</th>\n",
       "    </tr>\n",
       "  </thead>\n",
       "  <tbody>\n",
       "    <tr>\n",
       "      <th>0</th>\n",
       "      <td>14.1</td>\n",
       "      <td>11.0</td>\n",
       "      <td>12.8</td>\n",
       "    </tr>\n",
       "    <tr>\n",
       "      <th>1</th>\n",
       "      <td>14.1</td>\n",
       "      <td>12.6</td>\n",
       "      <td>12.3</td>\n",
       "    </tr>\n",
       "    <tr>\n",
       "      <th>2</th>\n",
       "      <td>13.7</td>\n",
       "      <td>12.1</td>\n",
       "      <td>12.6</td>\n",
       "    </tr>\n",
       "    <tr>\n",
       "      <th>3</th>\n",
       "      <td>12.9</td>\n",
       "      <td>11.2</td>\n",
       "      <td>12.3</td>\n",
       "    </tr>\n",
       "    <tr>\n",
       "      <th>4</th>\n",
       "      <td>12.3</td>\n",
       "      <td>11.3</td>\n",
       "      <td>11.8</td>\n",
       "    </tr>\n",
       "  </tbody>\n",
       "</table>\n",
       "</div>"
      ],
      "text/plain": [
       "   Copenhagen  Dniprop  Minsk\n",
       "0        14.1     11.0   12.8\n",
       "1        14.1     12.6   12.3\n",
       "2        13.7     12.1   12.6\n",
       "3        12.9     11.2   12.3\n",
       "4        12.3     11.3   11.8"
      ]
     },
     "execution_count": 2,
     "metadata": {},
     "output_type": "execute_result"
    }
   ],
   "source": [
    "data = {\n",
    "    \"Copenhagen\": [14.1, 14.1, 13.7, 12.9, 12.3, 11.7, 10.8, 10.6, 9.8, 5.3],\n",
    "    \"Dniprop\": [11.0, 12.6, 12.1, 11.2, 11.3, 10.5, 9.5, 10.3, 9.0, 8.7],\n",
    "    \"Minsk\": [12.8, 12.3, 12.6, 12.3, 11.8, 9.9, 9.9, 8.4, 8.3, 6.9],\n",
    "}\n",
    "\n",
    "\n",
    "df = pd.DataFrame.from_dict(data)\n",
    "df.head()"
   ]
  },
  {
   "cell_type": "code",
   "execution_count": 3,
   "metadata": {},
   "outputs": [
    {
     "data": {
      "image/png": "[encoded data removed]",
      "text/plain": [
       "<Figure size 432x288 with 1 Axes>"
      ]
     },
     "metadata": {
      "needs_background": "light"
     },
     "output_type": "display_data"
    }
   ],
   "source": [
    "fig, ax = plt.subplots()\n",
    "df.plot(ax=ax)\n",
    "ax.set_title(\"Average contributions to the public goods game: Without punishment\")\n",
    "ax.set_ylabel(\"Average contribution\")\n",
    "ax.set_xlabel(\"Round\");"
   ]
  },
  {
   "cell_type": "markdown",
   "metadata": {},
   "source": [
    "## 演练2.2"
   ]
  },
  {
   "cell_type": "code",
   "execution_count": 4,
   "metadata": {},
   "outputs": [],
   "source": [
    "data_np = pd.read_excel(\n",
    "    \"data/doing-economics-datafile-working-in-excel-project-2.xlsx\",\n",
    "    usecols=\"A:Q\",\n",
    "    header=1,\n",
    "    index_col=\"Period\",\n",
    ")\n",
    "data_n = data_np.iloc[:10, :].copy()\n",
    "data_p = data_np.iloc[14:24, :].copy()"
   ]
  },
  {
   "cell_type": "code",
   "execution_count": 5,
   "metadata": {},
   "outputs": [],
   "source": [
    "test_data = {\n",
    "    \"City A\": [14.1, 14.1, 13.7],\n",
    "    \"City B\": [11.0, 12.6, 12.1],\n",
    "}\n",
    "\n",
    "\n",
    "# Original dataframe\n",
    "test_df = pd.DataFrame.from_dict(test_data)\n",
    "# A copy of the dataframe\n",
    "test_copy = test_df.copy()\n",
    "# A pointer to the dataframe\n",
    "test_pointer = test_df\n",
    "\n",
    "\n",
    "test_pointer.iloc[1, 1] = 99"
   ]
  },
  {
   "cell_type": "code",
   "execution_count": 6,
   "metadata": {},
   "outputs": [
    {
     "name": "stdout",
     "output_type": "stream",
     "text": [
      "test_df=\n",
      "   City A  City B\n",
      "0    14.1    11.0\n",
      "1    14.1    99.0\n",
      "2    13.7    12.1\n",
      "\n",
      "test_copy=\n",
      "   City A  City B\n",
      "0    14.1    11.0\n",
      "1    14.1    12.6\n",
      "2    13.7    12.1\n",
      "\n"
     ]
    }
   ],
   "source": [
    "print(\"test_df=\")\n",
    "print(f\"{test_df}\\n\")\n",
    "print(\"test_copy=\")\n",
    "print(f\"{test_copy}\\n\")"
   ]
  },
  {
   "cell_type": "code",
   "execution_count": 7,
   "metadata": {},
   "outputs": [
    {
     "name": "stdout",
     "output_type": "stream",
     "text": [
      "<class 'pandas.core.frame.DataFrame'>\n",
      "Index: 10 entries, 1 to 10\n",
      "Data columns (total 16 columns):\n",
      " #   Column           Non-Null Count  Dtype \n",
      "---  ------           --------------  ----- \n",
      " 0   Copenhagen       10 non-null     object\n",
      " 1   Dnipropetrovs’k  10 non-null     object\n",
      " 2   Minsk            10 non-null     object\n",
      " 3   St. Gallen       10 non-null     object\n",
      " 4   Muscat           10 non-null     object\n",
      " 5   Samara           10 non-null     object\n",
      " 6   Zurich           10 non-null     object\n",
      " 7   Boston           10 non-null     object\n",
      " 8   Bonn             10 non-null     object\n",
      " 9   Chengdu          10 non-null     object\n",
      " 10  Seoul            10 non-null     object\n",
      " 11  Riyadh           10 non-null     object\n",
      " 12  Nottingham       10 non-null     object\n",
      " 13  Athens           10 non-null     object\n",
      " 14  Istanbul         10 non-null     object\n",
      " 15  Melbourne        10 non-null     object\n",
      "dtypes: object(16)\n",
      "memory usage: 1.3+ KB\n"
     ]
    }
   ],
   "source": [
    "data_n.info()"
   ]
  },
  {
   "cell_type": "code",
   "execution_count": 8,
   "metadata": {},
   "outputs": [],
   "source": [
    "data_n = data_n.astype(\"double\")\n",
    "data_p = data_p.astype(\"double\")"
   ]
  },
  {
   "cell_type": "markdown",
   "metadata": {},
   "source": [
    "## 演练2.3"
   ]
  },
  {
   "cell_type": "code",
   "execution_count": 9,
   "metadata": {},
   "outputs": [],
   "source": [
    "mean_n_c = data_n.mean(axis=1)\n",
    "mean_p_c = data_p.agg(np.mean, axis=1)"
   ]
  },
  {
   "cell_type": "code",
   "execution_count": 10,
   "metadata": {},
   "outputs": [
    {
     "data": {
      "image/png": "[encoded data removed]",
      "text/plain": [
       "<Figure size 432x288 with 1 Axes>"
      ]
     },
     "metadata": {
      "needs_background": "light"
     },
     "output_type": "display_data"
    }
   ],
   "source": [
    "fig, ax = plt.subplots()\n",
    "mean_n_c.plot(ax=ax, label=\"Without punishment\")\n",
    "mean_p_c.plot(ax=ax, label=\"With punishment\")\n",
    "ax.set_title(\"Average contributions to the public goods game\")\n",
    "ax.set_ylabel(\"Average contribution\")\n",
    "ax.legend();"
   ]
  },
  {
   "cell_type": "markdown",
   "metadata": {},
   "source": [
    "## 演练2.4"
   ]
  },
  {
   "cell_type": "code",
   "execution_count": 11,
   "metadata": {},
   "outputs": [
    {
     "data": {
      "text/plain": [
       "['John F. Kennedy', 'John Lennon', 'John Maynard Keynes', 'John Wayne']"
      ]
     },
     "execution_count": 11,
     "metadata": {},
     "output_type": "execute_result"
    }
   ],
   "source": [
    "partial_names_list = [\"F. Kennedy\", \"Lennon\", \"Maynard Keynes\", \"Wayne\"]\n",
    "[\"John \" + name for name in partial_names_list]"
   ]
  },
  {
   "cell_type": "code",
   "execution_count": 12,
   "metadata": {},
   "outputs": [
    {
     "data": {
      "image/png": "[encoded data removed]",
      "text/plain": [
       "<Figure size 432x288 with 1 Axes>"
      ]
     },
     "metadata": {
      "needs_background": "light"
     },
     "output_type": "display_data"
    }
   ],
   "source": [
    "# Create new dataframe with bars in\n",
    "compare_grps = pd.DataFrame(\n",
    "    [mean_n_c.loc[[1, 10]], mean_p_c.loc[[1, 10]]],\n",
    "    index=[\"Without punishment\", \"With punishment\"],\n",
    ")\n",
    "# Rename columns to have 'round' in them\n",
    "compare_grps.columns = [\"Round \" + str(i) for i in compare_grps.columns]\n",
    "# Swap the column and index variables around with the transpose function, ready for plotting (.T is transpose)\n",
    "compare_grps = compare_grps.T\n",
    "# Make a bar chart\n",
    "compare_grps.plot.bar(rot=0);"
   ]
  },
  {
   "cell_type": "markdown",
   "metadata": {},
   "source": [
    "## 演练2.5"
   ]
  },
  {
   "cell_type": "code",
   "execution_count": 13,
   "metadata": {},
   "outputs": [
    {
     "data": {
      "text/html": [
       "<div>\n",
       "<style scoped>\n",
       "    .dataframe tbody tr th:only-of-type {\n",
       "        vertical-align: middle;\n",
       "    }\n",
       "\n",
       "    .dataframe tbody tr th {\n",
       "        vertical-align: top;\n",
       "    }\n",
       "\n",
       "    .dataframe thead th {\n",
       "        text-align: right;\n",
       "    }\n",
       "</style>\n",
       "<table border=\"1\" class=\"dataframe\">\n",
       "  <thead>\n",
       "    <tr style=\"text-align: right;\">\n",
       "      <th></th>\n",
       "      <th>std</th>\n",
       "      <th>var</th>\n",
       "      <th>mean</th>\n",
       "    </tr>\n",
       "  </thead>\n",
       "  <tbody>\n",
       "    <tr>\n",
       "      <th>1</th>\n",
       "      <td>2.020724</td>\n",
       "      <td>4.083325</td>\n",
       "      <td>10.578313</td>\n",
       "    </tr>\n",
       "    <tr>\n",
       "      <th>2</th>\n",
       "      <td>2.238129</td>\n",
       "      <td>5.009220</td>\n",
       "      <td>10.628398</td>\n",
       "    </tr>\n",
       "    <tr>\n",
       "      <th>3</th>\n",
       "      <td>2.329569</td>\n",
       "      <td>5.426891</td>\n",
       "      <td>10.407079</td>\n",
       "    </tr>\n",
       "    <tr>\n",
       "      <th>4</th>\n",
       "      <td>2.068213</td>\n",
       "      <td>4.277504</td>\n",
       "      <td>9.813033</td>\n",
       "    </tr>\n",
       "    <tr>\n",
       "      <th>5</th>\n",
       "      <td>2.108329</td>\n",
       "      <td>4.445049</td>\n",
       "      <td>9.305433</td>\n",
       "    </tr>\n",
       "    <tr>\n",
       "      <th>6</th>\n",
       "      <td>2.240881</td>\n",
       "      <td>5.021549</td>\n",
       "      <td>8.454844</td>\n",
       "    </tr>\n",
       "    <tr>\n",
       "      <th>7</th>\n",
       "      <td>2.136614</td>\n",
       "      <td>4.565117</td>\n",
       "      <td>7.837568</td>\n",
       "    </tr>\n",
       "    <tr>\n",
       "      <th>8</th>\n",
       "      <td>2.349442</td>\n",
       "      <td>5.519880</td>\n",
       "      <td>7.376388</td>\n",
       "    </tr>\n",
       "    <tr>\n",
       "      <th>9</th>\n",
       "      <td>2.413845</td>\n",
       "      <td>5.826645</td>\n",
       "      <td>6.392985</td>\n",
       "    </tr>\n",
       "    <tr>\n",
       "      <th>10</th>\n",
       "      <td>2.187126</td>\n",
       "      <td>4.783520</td>\n",
       "      <td>4.383769</td>\n",
       "    </tr>\n",
       "  </tbody>\n",
       "</table>\n",
       "</div>"
      ],
      "text/plain": [
       "         std       var       mean\n",
       "1   2.020724  4.083325  10.578313\n",
       "2   2.238129  5.009220  10.628398\n",
       "3   2.329569  5.426891  10.407079\n",
       "4   2.068213  4.277504   9.813033\n",
       "5   2.108329  4.445049   9.305433\n",
       "6   2.240881  5.021549   8.454844\n",
       "7   2.136614  4.565117   7.837568\n",
       "8   2.349442  5.519880   7.376388\n",
       "9   2.413845  5.826645   6.392985\n",
       "10  2.187126  4.783520   4.383769"
      ]
     },
     "execution_count": 13,
     "metadata": {},
     "output_type": "execute_result"
    }
   ],
   "source": [
    "n_c = data_n.agg([\"std\", \"var\", \"mean\"], 1)\n",
    "n_c"
   ]
  },
  {
   "cell_type": "code",
   "execution_count": 14,
   "metadata": {},
   "outputs": [],
   "source": [
    "p_c = data_p.agg([\"std\", \"var\", \"mean\"], 1)"
   ]
  },
  {
   "cell_type": "code",
   "execution_count": 15,
   "metadata": {},
   "outputs": [
    {
     "data": {
      "image/png": "[encoded data removed]",
      "text/plain": [
       "<Figure size 432x288 with 1 Axes>"
      ]
     },
     "metadata": {
      "needs_background": "light"
     },
     "output_type": "display_data"
    }
   ],
   "source": [
    "fig, ax = plt.subplots()\n",
    "n_c[\"mean\"].plot(ax=ax, label=\"mean\")\n",
    "# mean + 2 standard deviations\n",
    "(n_c[\"mean\"] + 2 * n_c[\"std\"]).plot(ax=ax, ylim=(0, None), color=\"red\", label=\"±2 s.d.\")\n",
    "# mean - 2 standard deviations\n",
    "(n_c[\"mean\"] - 2 * n_c[\"std\"]).plot(ax=ax, ylim=(0, None), color=\"red\", label=\"\")\n",
    "for i in range(len(data_n.columns)):\n",
    "    ax.scatter(x=data_n.index, y=data_n.iloc[:, i], color=\"k\", alpha=0.3)\n",
    "ax.legend()\n",
    "ax.set_ylabel(\"Average contribution\")\n",
    "ax.set_title(\"Contribution to public goods game without punishment\")\n",
    "plt.show();"
   ]
  },
  {
   "cell_type": "code",
   "execution_count": 16,
   "metadata": {},
   "outputs": [
    {
     "data": {
      "image/png": "[encoded data removed]",
      "text/plain": [
       "<Figure size 432x288 with 1 Axes>"
      ]
     },
     "metadata": {
      "needs_background": "light"
     },
     "output_type": "display_data"
    }
   ],
   "source": [
    "fig, ax = plt.subplots()\n",
    "p_c[\"mean\"].plot(ax=ax, label=\"mean\")\n",
    "# mean + 2 sd\n",
    "(p_c[\"mean\"] + 2 * p_c[\"std\"]).plot(ax=ax, ylim=(0, None), color=\"red\", label=\"±2 s.d.\")\n",
    "# mean - 2 sd\n",
    "(p_c[\"mean\"] - 2 * p_c[\"std\"]).plot(ax=ax, ylim=(0, None), color=\"red\", label=\"\")\n",
    "for i in range(len(data_p.columns)):\n",
    "    ax.scatter(x=data_p.index, y=data_p.iloc[:, i], color=\"k\", alpha=0.3)\n",
    "ax.legend()\n",
    "ax.set_ylabel(\"Average contribution\")\n",
    "ax.set_title(\"Contribution to public goods game with punishment\")\n",
    "plt.show();"
   ]
  },
  {
   "cell_type": "markdown",
   "metadata": {},
   "source": [
    "## 演练2.6"
   ]
  },
  {
   "cell_type": "code",
   "execution_count": 17,
   "metadata": {},
   "outputs": [
    {
     "data": {
      "text/plain": [
       "Period\n",
       "1     10.199675\n",
       "2     12.185065\n",
       "3     12.689935\n",
       "4     12.625000\n",
       "5     12.140375\n",
       "6     12.827541\n",
       "7     13.098931\n",
       "8     13.482621\n",
       "9     13.496754\n",
       "10    11.307360\n",
       "dtype: float64"
      ]
     },
     "execution_count": 17,
     "metadata": {},
     "output_type": "execute_result"
    }
   ],
   "source": [
    "data_p.apply(lambda x: x.max() - x.min(), axis=1)"
   ]
  },
  {
   "cell_type": "code",
   "execution_count": 18,
   "metadata": {},
   "outputs": [
    {
     "data": {
      "text/plain": [
       "50"
      ]
     },
     "execution_count": 18,
     "metadata": {},
     "output_type": "execute_result"
    }
   ],
   "source": [
    "# A lambda function accepting three inputs, a, b, and c, and calculating the sum of the squares\n",
    "test_function = lambda a, b, c: a**2 + b**2 + c**2\n",
    "\n",
    "\n",
    "# Now we apply the function by handing over (in parenthesis) the following inputs: a=3, b=4 and c=5\n",
    "test_function(3, 4, 5)"
   ]
  },
  {
   "cell_type": "code",
   "execution_count": 19,
   "metadata": {},
   "outputs": [],
   "source": [
    "range_function = lambda x: x.max() - x.min()\n",
    "range_p = data_p.apply(range_function, axis=1)\n",
    "range_n = data_n.apply(range_function, axis=1)"
   ]
  },
  {
   "cell_type": "code",
   "execution_count": 20,
   "metadata": {},
   "outputs": [
    {
     "data": {
      "image/png": "[encoded data removed]",
      "text/plain": [
       "<Figure size 432x288 with 1 Axes>"
      ]
     },
     "metadata": {
      "needs_background": "light"
     },
     "output_type": "display_data"
    }
   ],
   "source": [
    "fig, ax = plt.subplots()\n",
    "range_p.plot(ax=ax, label=\"With punishment\")\n",
    "range_n.plot(ax=ax, label=\"Without punishment\")\n",
    "ax.set_ylim(0, None)\n",
    "ax.legend()\n",
    "ax.set_title(\"Range of contributions to the public goods game\")\n",
    "plt.show();"
   ]
  },
  {
   "cell_type": "markdown",
   "metadata": {},
   "source": [
    "## 演练2.7"
   ]
  },
  {
   "cell_type": "code",
   "execution_count": 21,
   "metadata": {},
   "outputs": [],
   "source": [
    "funcs_to_apply = [range_function, \"max\", \"min\", \"std\", \"mean\"]\n",
    "summ_p = data_p.apply(funcs_to_apply, axis=1).rename(columns={\"<lambda>\": \"range\"})\n",
    "summ_n = data_n.apply(funcs_to_apply, axis=1).rename(columns={\"<lambda>\": \"range\"})"
   ]
  },
  {
   "cell_type": "code",
   "execution_count": 22,
   "metadata": {},
   "outputs": [
    {
     "data": {
      "text/html": [
       "<div>\n",
       "<style scoped>\n",
       "    .dataframe tbody tr th:only-of-type {\n",
       "        vertical-align: middle;\n",
       "    }\n",
       "\n",
       "    .dataframe tbody tr th {\n",
       "        vertical-align: top;\n",
       "    }\n",
       "\n",
       "    .dataframe thead th {\n",
       "        text-align: right;\n",
       "    }\n",
       "</style>\n",
       "<table border=\"1\" class=\"dataframe\">\n",
       "  <thead>\n",
       "    <tr style=\"text-align: right;\">\n",
       "      <th></th>\n",
       "      <th>range</th>\n",
       "      <th>max</th>\n",
       "      <th>min</th>\n",
       "      <th>std</th>\n",
       "      <th>mean</th>\n",
       "    </tr>\n",
       "  </thead>\n",
       "  <tbody>\n",
       "    <tr>\n",
       "      <th>1</th>\n",
       "      <td>6.14</td>\n",
       "      <td>14.10</td>\n",
       "      <td>7.96</td>\n",
       "      <td>2.02</td>\n",
       "      <td>10.58</td>\n",
       "    </tr>\n",
       "    <tr>\n",
       "      <th>10</th>\n",
       "      <td>7.38</td>\n",
       "      <td>8.68</td>\n",
       "      <td>1.30</td>\n",
       "      <td>2.19</td>\n",
       "      <td>4.38</td>\n",
       "    </tr>\n",
       "  </tbody>\n",
       "</table>\n",
       "</div>"
      ],
      "text/plain": [
       "    range    max   min   std   mean\n",
       "1    6.14  14.10  7.96  2.02  10.58\n",
       "10   7.38   8.68  1.30  2.19   4.38"
      ]
     },
     "execution_count": 22,
     "metadata": {},
     "output_type": "execute_result"
    }
   ],
   "source": [
    "summ_n.loc[[1, 10], :].round(2)"
   ]
  },
  {
   "cell_type": "code",
   "execution_count": 23,
   "metadata": {},
   "outputs": [
    {
     "data": {
      "text/html": [
       "<div>\n",
       "<style scoped>\n",
       "    .dataframe tbody tr th:only-of-type {\n",
       "        vertical-align: middle;\n",
       "    }\n",
       "\n",
       "    .dataframe tbody tr th {\n",
       "        vertical-align: top;\n",
       "    }\n",
       "\n",
       "    .dataframe thead th {\n",
       "        text-align: right;\n",
       "    }\n",
       "</style>\n",
       "<table border=\"1\" class=\"dataframe\">\n",
       "  <thead>\n",
       "    <tr style=\"text-align: right;\">\n",
       "      <th></th>\n",
       "      <th>range</th>\n",
       "      <th>max</th>\n",
       "      <th>min</th>\n",
       "      <th>std</th>\n",
       "      <th>mean</th>\n",
       "    </tr>\n",
       "  </thead>\n",
       "  <tbody>\n",
       "    <tr>\n",
       "      <th>1</th>\n",
       "      <td>10.20</td>\n",
       "      <td>16.02</td>\n",
       "      <td>5.82</td>\n",
       "      <td>3.21</td>\n",
       "      <td>10.64</td>\n",
       "    </tr>\n",
       "    <tr>\n",
       "      <th>10</th>\n",
       "      <td>11.31</td>\n",
       "      <td>17.51</td>\n",
       "      <td>6.20</td>\n",
       "      <td>3.90</td>\n",
       "      <td>12.87</td>\n",
       "    </tr>\n",
       "  </tbody>\n",
       "</table>\n",
       "</div>"
      ],
      "text/plain": [
       "    range    max   min   std   mean\n",
       "1   10.20  16.02  5.82  3.21  10.64\n",
       "10  11.31  17.51  6.20  3.90  12.87"
      ]
     },
     "execution_count": 23,
     "metadata": {},
     "output_type": "execute_result"
    }
   ],
   "source": [
    "summ_p.loc[[1, 10], :].round(2)"
   ]
  },
  {
   "cell_type": "markdown",
   "metadata": {},
   "source": [
    "## 演练2.8"
   ]
  },
  {
   "cell_type": "code",
   "execution_count": 24,
   "metadata": {},
   "outputs": [
    {
     "data": {
      "text/html": [
       "<div>\n",
       "<style scoped>\n",
       "    .dataframe tbody tr th:only-of-type {\n",
       "        vertical-align: middle;\n",
       "    }\n",
       "\n",
       "    .dataframe tbody tr th {\n",
       "        vertical-align: top;\n",
       "    }\n",
       "\n",
       "    .dataframe thead th {\n",
       "        text-align: right;\n",
       "    }\n",
       "</style>\n",
       "<table border=\"1\" class=\"dataframe\">\n",
       "  <thead>\n",
       "    <tr style=\"text-align: right;\">\n",
       "      <th></th>\n",
       "      <th>T</th>\n",
       "      <th>dof</th>\n",
       "      <th>alternative</th>\n",
       "      <th>p-val</th>\n",
       "      <th>CI95%</th>\n",
       "      <th>cohen-d</th>\n",
       "      <th>BF10</th>\n",
       "      <th>power</th>\n",
       "    </tr>\n",
       "  </thead>\n",
       "  <tbody>\n",
       "    <tr>\n",
       "      <th>T-test</th>\n",
       "      <td>-0.063782</td>\n",
       "      <td>30</td>\n",
       "      <td>two-sided</td>\n",
       "      <td>0.949567</td>\n",
       "      <td>[-2.0, 1.87]</td>\n",
       "      <td>0.02255</td>\n",
       "      <td>0.337</td>\n",
       "      <td>0.050437</td>\n",
       "    </tr>\n",
       "  </tbody>\n",
       "</table>\n",
       "</div>"
      ],
      "text/plain": [
       "               T  dof alternative     p-val         CI95%  cohen-d   BF10  \\\n",
       "T-test -0.063782   30   two-sided  0.949567  [-2.0, 1.87]  0.02255  0.337   \n",
       "\n",
       "           power  \n",
       "T-test  0.050437  "
      ]
     },
     "execution_count": 24,
     "metadata": {},
     "output_type": "execute_result"
    }
   ],
   "source": [
    "pg.ttest(x=data_n.iloc[0, :], y=data_p.iloc[0, :])"
   ]
  },
  {
   "cell_type": "code",
   "execution_count": 25,
   "metadata": {},
   "outputs": [
    {
     "data": {
      "text/html": [
       "<div>\n",
       "<style scoped>\n",
       "    .dataframe tbody tr th:only-of-type {\n",
       "        vertical-align: middle;\n",
       "    }\n",
       "\n",
       "    .dataframe tbody tr th {\n",
       "        vertical-align: top;\n",
       "    }\n",
       "\n",
       "    .dataframe thead th {\n",
       "        text-align: right;\n",
       "    }\n",
       "</style>\n",
       "<table border=\"1\" class=\"dataframe\">\n",
       "  <thead>\n",
       "    <tr style=\"text-align: right;\">\n",
       "      <th></th>\n",
       "      <th>T</th>\n",
       "      <th>dof</th>\n",
       "      <th>alternative</th>\n",
       "      <th>p-val</th>\n",
       "      <th>CI95%</th>\n",
       "      <th>cohen-d</th>\n",
       "      <th>BF10</th>\n",
       "      <th>power</th>\n",
       "    </tr>\n",
       "  </thead>\n",
       "  <tbody>\n",
       "    <tr>\n",
       "      <th>T-test</th>\n",
       "      <td>-0.149959</td>\n",
       "      <td>15</td>\n",
       "      <td>two-sided</td>\n",
       "      <td>0.882795</td>\n",
       "      <td>[-0.92, 0.8]</td>\n",
       "      <td>0.02255</td>\n",
       "      <td>0.258</td>\n",
       "      <td>0.05082</td>\n",
       "    </tr>\n",
       "  </tbody>\n",
       "</table>\n",
       "</div>"
      ],
      "text/plain": [
       "               T  dof alternative     p-val         CI95%  cohen-d   BF10  \\\n",
       "T-test -0.149959   15   two-sided  0.882795  [-0.92, 0.8]  0.02255  0.258   \n",
       "\n",
       "          power  \n",
       "T-test  0.05082  "
      ]
     },
     "execution_count": 25,
     "metadata": {},
     "output_type": "execute_result"
    }
   ],
   "source": [
    "pg.ttest(x=data_n.iloc[0, :], y=data_p.iloc[0, :], paired=True)"
   ]
  }
 ],
 "metadata": {
  "kernelspec": {
   "display_name": "Python 3",
   "language": "python",
   "name": "python3"
  },
  "language_info": {
   "codemirror_mode": {
    "name": "ipython",
    "version": 3
   },
   "file_extension": ".py",
   "mimetype": "text/x-python",
   "name": "python",
   "nbconvert_exporter": "python",
   "pygments_lexer": "ipython3",
   "version": "3.7.0"
  }
 },
 "nbformat": 4,
 "nbformat_minor": 2
}
